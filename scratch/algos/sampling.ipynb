{
 "cells": [
  {
   "cell_type": "code",
   "execution_count": 1,
   "metadata": {},
   "outputs": [],
   "source": [
    "import torch\n",
    "import matplotlib.pyplot as plt\n",
    "import numpy as np\n",
    "\n",
    "\n",
    "plt.rcParams.update({\n",
    "    'font.family': 'serif',\n",
    "    'text.usetex': True,\n",
    "})\n",
    "\n",
    "\n",
    "FONTSIZE=14\n",
    "SMALLER_FONTSIZE=12\n",
    "\n",
    "\n",
    "def compute_alpha(x, d, offset):\n",
    "    alpha = 1. - torch.exp(-torch.exp(x + offset) * d)\n",
    "    return alpha\n",
    "\n",
    "\n",
    "def compute_alpha_grad(x, d, offset):\n",
    "    exp_term = torch.exp(x + offset)\n",
    "    grad = torch.exp(-exp_term * d) * d * exp_term\n",
    "    return grad\n",
    "\n",
    "\n",
    "def compute_alpha_grad_two(x, d, offset):\n",
    "    exp_term = torch.exp(x + offset)\n",
    "    grad = torch.exp(-exp_term * d) * d * exp_term - \\\n",
    "        torch.exp(-exp_term * d) * (d * exp_term) ** 2\n",
    "    return grad\n",
    "\n",
    "\n",
    "def compute_x_from_alpha(alpha, d, offset):\n",
    "    x = torch.log(-torch.log(torch.tensor(1. - alpha)) / d) - offset\n",
    "    return x\n",
    "\n",
    "\n",
    "def compute_x_from_alpha_grad_two(grad, d, offset):\n",
    "    if grad == 0:\n",
    "        d, offset = torch.tensor(d), torch.tensor(offset)\n",
    "        return torch.log(1 / d) - offset\n",
    "    raise NotImplementedError\n",
    "\n",
    "\n",
    "def compute_width_x_from_alphas(d, offset):\n",
    "    low_alpha = compute_x_from_alpha(0.01, d, offset)\n",
    "    high_alpha = compute_x_from_alpha(0.99, d, offset)\n",
    "    return high_alpha - low_alpha\n",
    "\n",
    "\n",
    "def generate_sample_plot(x, d, offset, gamma):\n",
    "    _, ax = plt.subplots()\n",
    "\n",
    "    alphas = compute_alpha(gamma * x, d, offset)\n",
    "    grads = compute_alpha_grad(gamma * x, d, offset)\n",
    "    grads_two = compute_alpha_grad_two(gamma * x, d, offset)\n",
    "    ax.plot(x, alphas)\n",
    "    ax.plot(x, grads)\n",
    "    ax.plot(x, grads_two)\n",
    "\n",
    "    ax.set_title(r\"$\\alpha = 1 - \\exp(-\\exp(\\gamma x + \\mathrm{offset}) \\cdot d)$\", fontsize=FONTSIZE, usetex=True)\n",
    "    ax.set_xlabel(r\"$x$\", fontsize=FONTSIZE, usetex=True)\n",
    "    ax.set_ylabel(r\"$\\alpha$\", fontsize=FONTSIZE, usetex=True)\n",
    "    ax.tick_params(labelsize=SMALLER_FONTSIZE)\n",
    "    ax.legend([r\"$\\alpha(x)$\", r\"$\\nabla_x \\alpha$\", r\"$\\nabla_x^2 \\alpha$\"], fontsize=SMALLER_FONTSIZE)\n",
    "    plt.show()\n"
   ]
  },
  {
   "cell_type": "code",
   "execution_count": 2,
   "metadata": {},
   "outputs": [
    {
     "name": "stdout",
     "output_type": "stream",
     "text": [
      "interval d: 0.0118 * 1 = 0.0118; offset: -5.9864; gamma: 1.0000\n"
     ]
    },
    {
     "data": {
      "image/png": "[encoded data removed]",
      "text/plain": [
       "<Figure size 432x288 with 1 Axes>"
      ]
     },
     "metadata": {
      "needs_background": "light"
     },
     "output_type": "display_data"
    },
    {
     "name": "stdout",
     "output_type": "stream",
     "text": [
      "x|(alpha = 0.5) = 10.0596\n",
      "x|(d(alpha^2)/d^2x = 0) = 10.4261\n",
      "dx|(alpha=0.01 to alpha=0.99) = 6.1273\n"
     ]
    }
   ],
   "source": [
    "# define and print hyperparameter values\n",
    "x = torch.linspace(-10, 30, 10001)\n",
    "d = 0.0118  # set to TensoRF default\n",
    "k = 1\n",
    "gamma = 1\n",
    "L = 4.0     # ray length; set to blender default\n",
    "offset = np.log(np.log(1 / 0.99)) - np.log(L * k)\n",
    "print(f\"interval d: {d} * {k} = {d*k:.4f}; \" +\n",
    "      f\"offset: {offset:.4f}; \" +\n",
    "      f\"gamma: {gamma:.4f}\")\n",
    "\n",
    "# generate vol rend plot with alpha, alpha grad, and alpha grad^2\n",
    "generate_sample_plot(x, d * k, offset, gamma)\n",
    "\n",
    "# find x for alpha = 0.5\n",
    "midpoint = compute_x_from_alpha(0.5, d * k, offset) / gamma\n",
    "print(f\"x|(alpha = 0.5) = {midpoint:.4f}\")\n",
    "\n",
    "# find x where second derivative is zero\n",
    "highest_growth = compute_x_from_alpha_grad_two(0, d * k, offset) / gamma\n",
    "print(f\"x|(d(alpha^2)/d^2x = 0) = {highest_growth:.4f}\")\n",
    "\n",
    "# find width of x where alpha ranges from 0.01 to 0.99\n",
    "width = compute_width_x_from_alphas(d * k, offset) / gamma\n",
    "print(f\"dx|(alpha=0.01 to alpha=0.99) = {width:.4f}\")"
   ]
  }
 ],
 "metadata": {
  "kernelspec": {
   "display_name": "spacestation",
   "language": "python",
   "name": "python3"
  },
  "language_info": {
   "codemirror_mode": {
    "name": "ipython",
    "version": 3
   },
   "file_extension": ".py",
   "mimetype": "text/x-python",
   "name": "python",
   "nbconvert_exporter": "python",
   "pygments_lexer": "ipython3",
   "version": "3.10.11"
  }
 },
 "nbformat": 4,
 "nbformat_minor": 2
}
